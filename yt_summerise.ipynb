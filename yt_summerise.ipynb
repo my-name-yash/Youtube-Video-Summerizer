{
  "nbformat": 4,
  "nbformat_minor": 0,
  "metadata": {
    "colab": {
      "provenance": [],
      "authorship_tag": "ABX9TyNiGsvQu1C/xHF0Ffe5VZjR",
      "include_colab_link": true
    },
    "kernelspec": {
      "name": "python3",
      "display_name": "Python 3"
    },
    "language_info": {
      "name": "python"
    }
  },
  "cells": [
    {
      "cell_type": "markdown",
      "metadata": {
        "id": "view-in-github",
        "colab_type": "text"
      },
      "source": [
        "<a href=\"https://colab.research.google.com/github/my-name-yash/Youtube-Video-Summerizer/blob/main/yt_summerise.ipynb\" target=\"_parent\"><img src=\"https://colab.research.google.com/assets/colab-badge.svg\" alt=\"Open In Colab\"/></a>"
      ]
    },
    {
      "cell_type": "code",
      "source": [
        "from google.colab import userdata\n",
        "api_key= userdata.get('gemini_api_key')"
      ],
      "metadata": {
        "id": "fxBq4zwmwQH5"
      },
      "execution_count": 146,
      "outputs": []
    },
    {
      "cell_type": "code",
      "execution_count": null,
      "metadata": {
        "id": "PRMYLnhjHQEC"
      },
      "outputs": [],
      "source": [
        "!pip install youtube-transcript-api openai"
      ]
    },
    {
      "cell_type": "code",
      "source": [
        "from youtube_transcript_api import YouTubeTranscriptApi\n",
        "from openai import OpenAI"
      ],
      "metadata": {
        "id": "K50PNlXSEOIg"
      },
      "execution_count": 148,
      "outputs": []
    },
    {
      "cell_type": "code",
      "source": [
        "client = OpenAI(\n",
        "    api_key= api_key,\n",
        "    base_url=\"https://generativelanguage.googleapis.com/v1beta/openai/\"\n",
        ")"
      ],
      "metadata": {
        "id": "gZsNrLVXbeN-"
      },
      "execution_count": 149,
      "outputs": []
    },
    {
      "cell_type": "code",
      "source": [
        "ytt_api = YouTubeTranscriptApi()"
      ],
      "metadata": {
        "id": "ADNyPyPdHviM"
      },
      "execution_count": 150,
      "outputs": []
    },
    {
      "cell_type": "code",
      "source": [
        "def get_video_id(url_link):\n",
        "  return url_link.split(\"watch?v=\")[-1]"
      ],
      "metadata": {
        "id": "W2lWoW2mEcL9"
      },
      "execution_count": 151,
      "outputs": []
    },
    {
      "cell_type": "code",
      "source": [
        "video_id= get_video_id(\"https://www.youtube.com/watch?v=ly6YKz9UfQ4\")"
      ],
      "metadata": {
        "id": "Q0idCGY0ExWW"
      },
      "execution_count": 152,
      "outputs": []
    },
    {
      "cell_type": "code",
      "source": [
        "transcript = ytt_api.fetch(video_id)"
      ],
      "metadata": {
        "id": "7SCdkyP1Fwz2"
      },
      "execution_count": 153,
      "outputs": []
    },
    {
      "cell_type": "code",
      "source": [
        "transcript"
      ],
      "metadata": {
        "id": "UwokrLIdF1BJ"
      },
      "execution_count": null,
      "outputs": []
    },
    {
      "cell_type": "code",
      "source": [
        "transcript_joined = \" \".join([snippet.text for snippet in transcript])"
      ],
      "metadata": {
        "id": "i5IfdgE6H32y"
      },
      "execution_count": 155,
      "outputs": []
    },
    {
      "cell_type": "code",
      "metadata": {
        "id": "3936bc6c"
      },
      "source": [
        "transcript_joined"
      ],
      "execution_count": null,
      "outputs": []
    },
    {
      "cell_type": "code",
      "source": [
        "# max_chars = 1500\n",
        "# if len(transcript_joined) > max_chars:\n",
        "#     transcript_joined = transcript_joined[:max_chars]"
      ],
      "metadata": {
        "id": "DN8QjSB0dF-p"
      },
      "execution_count": 157,
      "outputs": []
    },
    {
      "cell_type": "code",
      "source": [
        "prompt= f''' Summerize this text: \\ntext={transcript_joined}'''"
      ],
      "metadata": {
        "id": "SvwhRi2hAKyp"
      },
      "execution_count": 158,
      "outputs": []
    },
    {
      "cell_type": "code",
      "source": [
        "# 3. Call the API using a compatible Gemini model name\n",
        "chat_completion = client.chat.completions.create(\n",
        "    model=\"gemini-2.5-flash\", # Use a model name from the documentation\n",
        "    messages=[{\"role\": \"user\", \"content\": prompt}],\n",
        "    temperature=0.2\n",
        ")\n",
        "print(chat_completion.choices[0].message.content)"
      ],
      "metadata": {
        "id": "XmDO8Rzw96Lw"
      },
      "execution_count": null,
      "outputs": []
    },
    {
      "cell_type": "code",
      "source": [
        "chat_completion"
      ],
      "metadata": {
        "id": "PiqTYyOvAF4r"
      },
      "execution_count": null,
      "outputs": []
    }
  ]
}