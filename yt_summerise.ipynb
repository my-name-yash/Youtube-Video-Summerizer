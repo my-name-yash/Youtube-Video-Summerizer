{
  "nbformat": 4,
  "nbformat_minor": 0,
  "metadata": {
    "colab": {
      "provenance": [],
      "authorship_tag": "ABX9TyNiGsvQu1C/xHF0Ffe5VZjR",
      "include_colab_link": true
    },
    "kernelspec": {
      "name": "python3",
      "display_name": "Python 3"
    },
    "language_info": {
      "name": "python"
    }
  },
  "cells": [
    {
      "cell_type": "markdown",
      "metadata": {
        "id": "view-in-github",
        "colab_type": "text"
      },
      "source": [
        "<a href=\"https://colab.research.google.com/github/my-name-yash/Youtube-Video-Summerizer/blob/main/yt_summerise.ipynb\" target=\"_parent\"><img src=\"https://colab.research.google.com/assets/colab-badge.svg\" alt=\"Open In Colab\"/></a>"
      ]
    },
    {
      "cell_type": "code",
      "source": [
        "from google.colab import userdata\n",
        "api_key= userdata.get('gemini_api_key')"
      ],
      "metadata": {
        "id": "fxBq4zwmwQH5"
      },
      "execution_count": 146,
      "outputs": []
    },
    {
      "cell_type": "code",
      "execution_count": 147,
      "metadata": {
        "id": "PRMYLnhjHQEC",
        "colab": {
          "base_uri": "https://localhost:8080/"
        },
        "outputId": "5dc3ce33-439f-4d4b-cc0f-bf36ff4fe462"
      },
      "outputs": [
        {
          "output_type": "stream",
          "name": "stdout",
          "text": [
            "Requirement already satisfied: youtube-transcript-api in /usr/local/lib/python3.12/dist-packages (1.2.2)\n",
            "Requirement already satisfied: openai in /usr/local/lib/python3.12/dist-packages (1.109.1)\n",
            "Requirement already satisfied: defusedxml<0.8.0,>=0.7.1 in /usr/local/lib/python3.12/dist-packages (from youtube-transcript-api) (0.7.1)\n",
            "Requirement already satisfied: requests in /usr/local/lib/python3.12/dist-packages (from youtube-transcript-api) (2.32.4)\n",
            "Requirement already satisfied: anyio<5,>=3.5.0 in /usr/local/lib/python3.12/dist-packages (from openai) (4.11.0)\n",
            "Requirement already satisfied: distro<2,>=1.7.0 in /usr/local/lib/python3.12/dist-packages (from openai) (1.9.0)\n",
            "Requirement already satisfied: httpx<1,>=0.23.0 in /usr/local/lib/python3.12/dist-packages (from openai) (0.28.1)\n",
            "Requirement already satisfied: jiter<1,>=0.4.0 in /usr/local/lib/python3.12/dist-packages (from openai) (0.11.0)\n",
            "Requirement already satisfied: pydantic<3,>=1.9.0 in /usr/local/lib/python3.12/dist-packages (from openai) (2.11.9)\n",
            "Requirement already satisfied: sniffio in /usr/local/lib/python3.12/dist-packages (from openai) (1.3.1)\n",
            "Requirement already satisfied: tqdm>4 in /usr/local/lib/python3.12/dist-packages (from openai) (4.67.1)\n",
            "Requirement already satisfied: typing-extensions<5,>=4.11 in /usr/local/lib/python3.12/dist-packages (from openai) (4.15.0)\n",
            "Requirement already satisfied: idna>=2.8 in /usr/local/lib/python3.12/dist-packages (from anyio<5,>=3.5.0->openai) (3.10)\n",
            "Requirement already satisfied: certifi in /usr/local/lib/python3.12/dist-packages (from httpx<1,>=0.23.0->openai) (2025.8.3)\n",
            "Requirement already satisfied: httpcore==1.* in /usr/local/lib/python3.12/dist-packages (from httpx<1,>=0.23.0->openai) (1.0.9)\n",
            "Requirement already satisfied: h11>=0.16 in /usr/local/lib/python3.12/dist-packages (from httpcore==1.*->httpx<1,>=0.23.0->openai) (0.16.0)\n",
            "Requirement already satisfied: annotated-types>=0.6.0 in /usr/local/lib/python3.12/dist-packages (from pydantic<3,>=1.9.0->openai) (0.7.0)\n",
            "Requirement already satisfied: pydantic-core==2.33.2 in /usr/local/lib/python3.12/dist-packages (from pydantic<3,>=1.9.0->openai) (2.33.2)\n",
            "Requirement already satisfied: typing-inspection>=0.4.0 in /usr/local/lib/python3.12/dist-packages (from pydantic<3,>=1.9.0->openai) (0.4.2)\n",
            "Requirement already satisfied: charset_normalizer<4,>=2 in /usr/local/lib/python3.12/dist-packages (from requests->youtube-transcript-api) (3.4.3)\n",
            "Requirement already satisfied: urllib3<3,>=1.21.1 in /usr/local/lib/python3.12/dist-packages (from requests->youtube-transcript-api) (2.5.0)\n"
          ]
        }
      ],
      "source": [
        "!pip install youtube-transcript-api openai"
      ]
    },
    {
      "cell_type": "code",
      "source": [
        "from youtube_transcript_api import YouTubeTranscriptApi\n",
        "from openai import OpenAI"
      ],
      "metadata": {
        "id": "K50PNlXSEOIg"
      },
      "execution_count": 148,
      "outputs": []
    },
    {
      "cell_type": "code",
      "source": [
        "client = OpenAI(\n",
        "    api_key= api_key,\n",
        "    base_url=\"https://generativelanguage.googleapis.com/v1beta/openai/\"\n",
        ")"
      ],
      "metadata": {
        "id": "gZsNrLVXbeN-"
      },
      "execution_count": 149,
      "outputs": []
    },
    {
      "cell_type": "code",
      "source": [
        "ytt_api = YouTubeTranscriptApi()"
      ],
      "metadata": {
        "id": "ADNyPyPdHviM"
      },
      "execution_count": 150,
      "outputs": []
    },
    {
      "cell_type": "code",
      "source": [
        "def get_video_id(url_link):\n",
        "  return url_link.split(\"watch?v=\")[-1]"
      ],
      "metadata": {
        "id": "W2lWoW2mEcL9"
      },
      "execution_count": 151,
      "outputs": []
    },
    {
      "cell_type": "code",
      "source": [
        "video_id= get_video_id(\"https://www.youtube.com/watch?v=ly6YKz9UfQ4\")"
      ],
      "metadata": {
        "id": "Q0idCGY0ExWW"
      },
      "execution_count": 152,
      "outputs": []
    },
    {
      "cell_type": "code",
      "source": [
        "transcript = ytt_api.fetch(video_id)"
      ],
      "metadata": {
        "id": "7SCdkyP1Fwz2"
      },
      "execution_count": 153,
      "outputs": []
    },
    {
      "cell_type": "code",
      "source": [
        "transcript"
      ],
      "metadata": {
        "colab": {
          "base_uri": "https://localhost:8080/"
        },
        "id": "UwokrLIdF1BJ",
        "outputId": "267c5aba-4cae-4102-f919-eb3ee2f878de"
      },
      "execution_count": 154,
      "outputs": [
        {
          "output_type": "execute_result",
          "data": {
            "text/plain": [
              "FetchedTranscript(snippets=[FetchedTranscriptSnippet(text='Last week, Mark Zuckerberg put a freeze', start=0.24, duration=4.48), FetchedTranscriptSnippet(text='on all AI hiring at Meta, just weeks', start=2.32, duration=3.92), FetchedTranscriptSnippet(text='after spending billions of dollars', start=4.72, duration=3.28), FetchedTranscriptSnippet(text='poaching top talent from competitors', start=6.24, duration=4.16), FetchedTranscriptSnippet(text='like Open AI. Meanwhile, in a story few', start=8.0, duration=3.92), FetchedTranscriptSnippet(text='could have foreseen, everybody in', start=10.4, duration=3.279), FetchedTranscriptSnippet(text='Silicon Valley seems to be talking about', start=11.92, duration=4.08), FetchedTranscriptSnippet(text='an AI bubble. In part, because it was', start=13.679, duration=5.44), FetchedTranscriptSnippet(text='recently revealed that 95% of AIdriven', start=16.0, duration=4.88), FetchedTranscriptSnippet(text=\"projects fail. And that's not just some\", start=19.119, duration=3.521), FetchedTranscriptSnippet(text='random number I pulled out of nowhere.', start=20.88, duration=4.08), FetchedTranscriptSnippet(text=\"It's based on an MIT study that analyzed\", start=22.64, duration=4.479), FetchedTranscriptSnippet(text='the results of companies using AI. It', start=24.96, duration=4.159), FetchedTranscriptSnippet(text='spooked investors who are relying on AI', start=27.119, duration=4.0), FetchedTranscriptSnippet(text='to maintain irrational exuberance in the', start=29.119, duration=3.921), FetchedTranscriptSnippet(text='markets. And Sam Alman himself said', start=31.119, duration=3.841), FetchedTranscriptSnippet(text='this. Are we in a phase where investors', start=33.04, duration=4.4), FetchedTranscriptSnippet(text='as a whole are over excited about AI? In', start=34.96, duration=4.56), FetchedTranscriptSnippet(text=\"my opinion, yes. So, in today's video,\", start=37.44, duration=3.84), FetchedTranscriptSnippet(text=\"we'll find out if the AI hype train is\", start=39.52, duration=3.359), FetchedTranscriptSnippet(text='about to reach its terminus. It is', start=41.28, duration=4.08), FetchedTranscriptSnippet(text=\"August 25th, 2025, and you're watching\", start=42.879, duration=4.241), FetchedTranscriptSnippet(text=\"the code report. I've been using AI\", start=45.36, duration=3.359), FetchedTranscriptSnippet(text='coding tools from the very beginning', start=47.12, duration=3.2), FetchedTranscriptSnippet(text='because, believe it or not, I actually', start=48.719, duration=3.68), FetchedTranscriptSnippet(text='hate writing code. I do like developing', start=50.32, duration=3.759), FetchedTranscriptSnippet(text='software, and the code is just a means', start=52.399, duration=3.441), FetchedTranscriptSnippet(text='to an end. After multiple years of using', start=54.079, duration=3.441), FetchedTranscriptSnippet(text=\"AI to write code, I still don't feel\", start=55.84, duration=3.76), FetchedTranscriptSnippet(text='like a 10x developer. Sometimes I feel', start=57.52, duration=4.32), FetchedTranscriptSnippet(text='like a 2x developer, while other times I', start=59.6, duration=4.72), FetchedTranscriptSnippet(text='feel more like a 0.5x developer. And', start=61.84, duration=4.319), FetchedTranscriptSnippet(text=\"apparently, I'm not the only one. This\", start=64.32, duration=4.4), FetchedTranscriptSnippet(text='recent study from MIT analyzed 300', start=66.159, duration=4.721), FetchedTranscriptSnippet(text='public deployments, interviewed 150', start=68.72, duration=4.88), FetchedTranscriptSnippet(text='leaders, and surveyed 350 employees', start=70.88, duration=5.12), FetchedTranscriptSnippet(text='connected to recent AI integrations.', start=73.6, duration=4.48), FetchedTranscriptSnippet(text=\"We're talking about 30 to 40 billion in\", start=76.0, duration=3.759), FetchedTranscriptSnippet(text='enterprise investment into generative', start=78.08, duration=4.16), FetchedTranscriptSnippet(text='AI. And yet it was found that 95% of', start=79.759, duration=4.641), FetchedTranscriptSnippet(text='them failed to achieve the goal of rapid', start=82.24, duration=4.4), FetchedTranscriptSnippet(text='revenue acceleration. In fact, almost', start=84.4, duration=4.24), FetchedTranscriptSnippet(text='all of them experienced little to no', start=86.64, duration=4.24), FetchedTranscriptSnippet(text='measurable impact on the bottom line. In', start=88.64, duration=3.839), FetchedTranscriptSnippet(text='addition, the study found that companies', start=90.88, duration=3.199), FetchedTranscriptSnippet(text='that tried to roll out their own AI', start=92.479, duration=3.6), FetchedTranscriptSnippet(text='tooling had a much higher failure rate', start=94.079, duration=3.921), FetchedTranscriptSnippet(text='because why pay for an AI tool when you', start=96.079, duration=3.521), FetchedTranscriptSnippet(text='can build a worse version yourself.', start=98.0, duration=3.119), FetchedTranscriptSnippet(text='Companies that paid a third party were', start=99.6, duration=3.12), FetchedTranscriptSnippet(text='better off. And I think the moral of the', start=101.119, duration=3.121), FetchedTranscriptSnippet(text=\"story here is that it's a great time to\", start=102.72, duration=3.84), FetchedTranscriptSnippet(text='be an enterprise AI shovel salesman. But', start=104.24, duration=3.839), FetchedTranscriptSnippet(text='despite the high failure rate in the', start=106.56, duration=3.12), FetchedTranscriptSnippet(text='study, there are some great success', start=108.079, duration=4.0), FetchedTranscriptSnippet(text='stories out there. Like back in 2023,', start=109.68, duration=4.88), FetchedTranscriptSnippet(text='enterprise software company Ignite CEO', start=112.079, duration=5.36), FetchedTranscriptSnippet(text='Eric Vaughn fired 80% of his developers', start=114.56, duration=5.04), FetchedTranscriptSnippet(text=\"and replaced them with AI. It's now 2\", start=117.439, duration=4.241), FetchedTranscriptSnippet(text='years later and he has no regrets and', start=119.6, duration=4.799), FetchedTranscriptSnippet(text='says the decision is now delivering 75%', start=121.68, duration=4.799), FetchedTranscriptSnippet(text='profit margins. And ultimately, the', start=124.399, duration=4.161), FetchedTranscriptSnippet(text='interpretation of the MIT study was that', start=126.479, duration=3.84), FetchedTranscriptSnippet(text=\"it's not the fault of the AI models that\", start=128.56, duration=3.759), FetchedTranscriptSnippet(text='the AI sucks at making money. The models', start=130.319, duration=3.681), FetchedTranscriptSnippet(text=\"are definitely smart enough. It's just\", start=132.319, duration=3.521), FetchedTranscriptSnippet(text=\"the humans suck at using them. It's\", start=134.0, duration=3.599), FetchedTranscriptSnippet(text='nothing but a skill issue. The AI', start=135.84, duration=3.6), FetchedTranscriptSnippet(text='integrations failed due to brittle', start=137.599, duration=3.841), FetchedTranscriptSnippet(text='workflows, lack of context, and', start=139.44, duration=4.32), FetchedTranscriptSnippet(text='misalignment with day-to-day operations.', start=141.44, duration=4.48), FetchedTranscriptSnippet(text='Many have failed to realize that AI vibe', start=143.76, duration=4.559), FetchedTranscriptSnippet(text='coding is almost identical to crack.', start=145.92, duration=3.679), FetchedTranscriptSnippet(text='After the first hit, you feel', start=148.319, duration=2.801), FetchedTranscriptSnippet(text='invincible, like you could write a', start=149.599, duration=3.041), FetchedTranscriptSnippet(text='billion dollar piece of software in', start=151.12, duration=3.759), FetchedTranscriptSnippet(text=\"hours. But then 200 hits later, you've\", start=152.64, duration=4.8), FetchedTranscriptSnippet(text='got nothing but errors in $100,000 cla', start=154.879, duration=3.921), FetchedTranscriptSnippet(text=\"bill, and you're still convinced that\", start=157.44, duration=2.72), FetchedTranscriptSnippet(text='the next prompt is going to be the one', start=158.8, duration=3.04), FetchedTranscriptSnippet(text='that fixes it all. With all the slop', start=160.16, duration=3.439), FetchedTranscriptSnippet(text='intensifying, it looks like programmers', start=161.84, duration=3.36), FetchedTranscriptSnippet(text='should still have a job writing code for', start=163.599, duration=3.521), FetchedTranscriptSnippet(text='the foreseeable future, which is why you', start=165.2, duration=3.84), FetchedTranscriptSnippet(text='need to check out Tupil, the sponsor of', start=167.12, duration=3.839), FetchedTranscriptSnippet(text=\"today's video. It's a remote pair\", start=169.04, duration=4.0), FetchedTranscriptSnippet(text='programming app for Mac OS and Windows', start=170.959, duration=4.321), FetchedTranscriptSnippet(text=\"that's loved by teams at Shopify, Clerk,\", start=173.04, duration=4.08), FetchedTranscriptSnippet(text=\"and many more. That's because it gives\", start=175.28, duration=3.599), FetchedTranscriptSnippet(text='you high-risisk screen sharing that lets', start=177.12, duration=3.52), FetchedTranscriptSnippet(text=\"you see the tiny text in each other's\", start=178.879, duration=4.0), FetchedTranscriptSnippet(text='IDE, plus shared remote control with', start=180.64, duration=4.48), FetchedTranscriptSnippet(text='super low latency, so it feels like your', start=182.879, duration=3.841), FetchedTranscriptSnippet(text='team is working together on a single', start=185.12, duration=3.6), FetchedTranscriptSnippet(text=\"machine. It's like Figma and Zoom had a\", start=186.72, duration=3.68), FetchedTranscriptSnippet(text='baby that was built specifically for', start=188.72, duration=3.439), FetchedTranscriptSnippet(text='developers, but the entire app is', start=190.4, duration=4.08), FetchedTranscriptSnippet(text=\"written in C++, so it won't hog all your\", start=192.159, duration=4.641), FetchedTranscriptSnippet(text='CPU cycles either. You can try Tupal for', start=194.48, duration=4.08), FetchedTranscriptSnippet(text='free at the link below, or use code', start=196.8, duration=3.6), FetchedTranscriptSnippet(text='fireship to get a special discount for', start=198.56, duration=3.599), FetchedTranscriptSnippet(text='your entire team. This has been the Code', start=200.4, duration=3.6), FetchedTranscriptSnippet(text='Report. Thanks for watching and I will', start=202.159, duration=4.481), FetchedTranscriptSnippet(text='see you in the next', start=204.0, duration=2.64)], video_id='ly6YKz9UfQ4', language='English (auto-generated)', language_code='en', is_generated=True)"
            ]
          },
          "metadata": {},
          "execution_count": 154
        }
      ]
    },
    {
      "cell_type": "code",
      "source": [
        "transcript_joined = \" \".join([snippet.text for snippet in transcript])"
      ],
      "metadata": {
        "id": "i5IfdgE6H32y"
      },
      "execution_count": 155,
      "outputs": []
    },
    {
      "cell_type": "code",
      "metadata": {
        "colab": {
          "base_uri": "https://localhost:8080/",
          "height": 144
        },
        "id": "3936bc6c",
        "outputId": "12dd830a-578a-4f91-9797-d9e8d926d844"
      },
      "source": [
        "transcript_joined"
      ],
      "execution_count": 156,
      "outputs": [
        {
          "output_type": "execute_result",
          "data": {
            "text/plain": [
              "\"Last week, Mark Zuckerberg put a freeze on all AI hiring at Meta, just weeks after spending billions of dollars poaching top talent from competitors like Open AI. Meanwhile, in a story few could have foreseen, everybody in Silicon Valley seems to be talking about an AI bubble. In part, because it was recently revealed that 95% of AIdriven projects fail. And that's not just some random number I pulled out of nowhere. It's based on an MIT study that analyzed the results of companies using AI. It spooked investors who are relying on AI to maintain irrational exuberance in the markets. And Sam Alman himself said this. Are we in a phase where investors as a whole are over excited about AI? In my opinion, yes. So, in today's video, we'll find out if the AI hype train is about to reach its terminus. It is August 25th, 2025, and you're watching the code report. I've been using AI coding tools from the very beginning because, believe it or not, I actually hate writing code. I do like developing software, and the code is just a means to an end. After multiple years of using AI to write code, I still don't feel like a 10x developer. Sometimes I feel like a 2x developer, while other times I feel more like a 0.5x developer. And apparently, I'm not the only one. This recent study from MIT analyzed 300 public deployments, interviewed 150 leaders, and surveyed 350 employees connected to recent AI integrations. We're talking about 30 to 40 billion in enterprise investment into generative AI. And yet it was found that 95% of them failed to achieve the goal of rapid revenue acceleration. In fact, almost all of them experienced little to no measurable impact on the bottom line. In addition, the study found that companies that tried to roll out their own AI tooling had a much higher failure rate because why pay for an AI tool when you can build a worse version yourself. Companies that paid a third party were better off. And I think the moral of the story here is that it's a great time to be an enterprise AI shovel salesman. But despite the high failure rate in the study, there are some great success stories out there. Like back in 2023, enterprise software company Ignite CEO Eric Vaughn fired 80% of his developers and replaced them with AI. It's now 2 years later and he has no regrets and says the decision is now delivering 75% profit margins. And ultimately, the interpretation of the MIT study was that it's not the fault of the AI models that the AI sucks at making money. The models are definitely smart enough. It's just the humans suck at using them. It's nothing but a skill issue. The AI integrations failed due to brittle workflows, lack of context, and misalignment with day-to-day operations. Many have failed to realize that AI vibe coding is almost identical to crack. After the first hit, you feel invincible, like you could write a billion dollar piece of software in hours. But then 200 hits later, you've got nothing but errors in $100,000 cla bill, and you're still convinced that the next prompt is going to be the one that fixes it all. With all the slop intensifying, it looks like programmers should still have a job writing code for the foreseeable future, which is why you need to check out Tupil, the sponsor of today's video. It's a remote pair programming app for Mac OS and Windows that's loved by teams at Shopify, Clerk, and many more. That's because it gives you high-risisk screen sharing that lets you see the tiny text in each other's IDE, plus shared remote control with super low latency, so it feels like your team is working together on a single machine. It's like Figma and Zoom had a baby that was built specifically for developers, but the entire app is written in C++, so it won't hog all your CPU cycles either. You can try Tupal for free at the link below, or use code fireship to get a special discount for your entire team. This has been the Code Report. Thanks for watching and I will see you in the next\""
            ],
            "application/vnd.google.colaboratory.intrinsic+json": {
              "type": "string"
            }
          },
          "metadata": {},
          "execution_count": 156
        }
      ]
    },
    {
      "cell_type": "code",
      "source": [
        "# max_chars = 1500\n",
        "# if len(transcript_joined) > max_chars:\n",
        "#     transcript_joined = transcript_joined[:max_chars]"
      ],
      "metadata": {
        "id": "DN8QjSB0dF-p"
      },
      "execution_count": 157,
      "outputs": []
    },
    {
      "cell_type": "code",
      "source": [
        "prompt= f''' Summerize this text: \\ntext={transcript_joined}'''"
      ],
      "metadata": {
        "id": "SvwhRi2hAKyp"
      },
      "execution_count": 158,
      "outputs": []
    },
    {
      "cell_type": "code",
      "source": [
        "# 3. Call the API using a compatible Gemini model name\n",
        "chat_completion = client.chat.completions.create(\n",
        "    model=\"gemini-2.5-flash\", # Use a model name from the documentation\n",
        "    messages=[{\"role\": \"user\", \"content\": prompt}],\n",
        "    temperature=0.2\n",
        ")\n",
        "print(chat_completion.choices[0].message.content)"
      ],
      "metadata": {
        "colab": {
          "base_uri": "https://localhost:8080/"
        },
        "id": "XmDO8Rzw96Lw",
        "outputId": "d0d087f4-e76a-40a8-8930-ab356a56f04d"
      },
      "execution_count": 159,
      "outputs": [
        {
          "output_type": "stream",
          "name": "stdout",
          "text": [
            "The text highlights growing skepticism about the AI industry, fueled by Mark Zuckerberg's freeze on AI hiring at Meta and widespread talk of an \"AI bubble.\" This concern is largely based on an MIT study revealing that 95% of AI-driven enterprise projects, despite billions in investment, fail to achieve rapid revenue acceleration or measurable impact on the bottom line. OpenAI CEO Sam Altman also acknowledges investor \"over excitement.\"\n",
            "\n",
            "The author's personal experience with AI coding tools suggests inconsistent productivity gains. The MIT study further found that companies building their own AI tools had higher failure rates than those using third-party solutions. While acknowledging a success story (Ignite CEO Eric Vaughn replacing developers with AI for high profits), the study concludes that the AI models themselves are not the problem; rather, human users struggle with \"brittle workflows, lack of context, and misalignment with day-to-day operations.\" The author likens \"AI vibe coding\" to an addictive cycle of initial excitement followed by errors and costs. Ultimately, the text suggests that programmers will likely remain essential for the foreseeable future due given these challenges.\n"
          ]
        }
      ]
    },
    {
      "cell_type": "code",
      "source": [
        "chat_completion"
      ],
      "metadata": {
        "id": "PiqTYyOvAF4r",
        "colab": {
          "base_uri": "https://localhost:8080/"
        },
        "outputId": "f6985684-6031-42a7-e018-71a1ec73b35e"
      },
      "execution_count": 160,
      "outputs": [
        {
          "output_type": "execute_result",
          "data": {
            "text/plain": [
              "ChatCompletion(id='hAnkaKD1EL2ymtkPj7ys0QU', choices=[Choice(finish_reason='stop', index=0, logprobs=None, message=ChatCompletionMessage(content='The text highlights growing skepticism about the AI industry, fueled by Mark Zuckerberg\\'s freeze on AI hiring at Meta and widespread talk of an \"AI bubble.\" This concern is largely based on an MIT study revealing that 95% of AI-driven enterprise projects, despite billions in investment, fail to achieve rapid revenue acceleration or measurable impact on the bottom line. OpenAI CEO Sam Altman also acknowledges investor \"over excitement.\"\\n\\nThe author\\'s personal experience with AI coding tools suggests inconsistent productivity gains. The MIT study further found that companies building their own AI tools had higher failure rates than those using third-party solutions. While acknowledging a success story (Ignite CEO Eric Vaughn replacing developers with AI for high profits), the study concludes that the AI models themselves are not the problem; rather, human users struggle with \"brittle workflows, lack of context, and misalignment with day-to-day operations.\" The author likens \"AI vibe coding\" to an addictive cycle of initial excitement followed by errors and costs. Ultimately, the text suggests that programmers will likely remain essential for the foreseeable future due given these challenges.', refusal=None, role='assistant', annotations=None, audio=None, function_call=None, tool_calls=None))], created=1759775108, model='gemini-2.5-flash', object='chat.completion', service_tier=None, system_fingerprint=None, usage=CompletionUsage(completion_tokens=222, prompt_tokens=924, total_tokens=2439, completion_tokens_details=None, prompt_tokens_details=None))"
            ]
          },
          "metadata": {},
          "execution_count": 160
        }
      ]
    }
  ]
}